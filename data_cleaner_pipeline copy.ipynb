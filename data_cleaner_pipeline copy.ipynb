{
 "cells": [
  {
   "cell_type": "markdown",
   "metadata": {},
   "source": [
    "How to create and open a Venv:\n",
    "step 1: python3.11 -m venv venv\n",
    "step 2: source venv/bin/activate\n",
    "step 3: install all of the librarys ex. pandas again"
   ]
  },
  {
   "cell_type": "code",
   "execution_count": 1,
   "metadata": {},
   "outputs": [],
   "source": [
    "import pandas as pd"
   ]
  },
  {
   "cell_type": "markdown",
   "metadata": {},
   "source": [
    "Step 1: Clean data"
   ]
  },
  {
   "cell_type": "code",
   "execution_count": 10,
   "metadata": {},
   "outputs": [
    {
     "name": "stdout",
     "output_type": "stream",
     "text": [
      "<class 'pandas.core.frame.DataFrame'>\n",
      "RangeIndex: 395 entries, 0 to 394\n",
      "Data columns (total 33 columns):\n",
      " #   Column      Non-Null Count  Dtype \n",
      "---  ------      --------------  ----- \n",
      " 0   school      395 non-null    object\n",
      " 1   sex         395 non-null    object\n",
      " 2   age         395 non-null    int64 \n",
      " 3   address     395 non-null    object\n",
      " 4   famsize     395 non-null    object\n",
      " 5   Pstatus     395 non-null    object\n",
      " 6   Medu        395 non-null    int64 \n",
      " 7   Fedu        395 non-null    int64 \n",
      " 8   Mjob        395 non-null    object\n",
      " 9   Fjob        395 non-null    object\n",
      " 10  reason      395 non-null    object\n",
      " 11  guardian    395 non-null    object\n",
      " 12  traveltime  395 non-null    int64 \n",
      " 13  studytime   395 non-null    int64 \n",
      " 14  failures    395 non-null    int64 \n",
      " 15  schoolsup   395 non-null    object\n",
      " 16  famsup      395 non-null    object\n",
      " 17  paid        395 non-null    int64 \n",
      " 18  activities  395 non-null    object\n",
      " 19  nursery     395 non-null    object\n",
      " 20  higher      395 non-null    object\n",
      " 21  internet    395 non-null    object\n",
      " 22  romantic    395 non-null    object\n",
      " 23  famrel      395 non-null    int64 \n",
      " 24  freetime    395 non-null    int64 \n",
      " 25  goout       395 non-null    int64 \n",
      " 26  Dalc        395 non-null    int64 \n",
      " 27  Walc        395 non-null    int64 \n",
      " 28  health      395 non-null    int64 \n",
      " 29  absences    395 non-null    int64 \n",
      " 30  G1          395 non-null    int64 \n",
      " 31  G2          395 non-null    int64 \n",
      " 32  G3          395 non-null    int64 \n",
      "dtypes: int64(17), object(16)\n",
      "memory usage: 102.0+ KB\n"
     ]
    }
   ],
   "source": [
    "\n",
    "\n",
    "#identify problem: There is only one columndf = pd.read_csv('/Users/kali/Documents/GitHub/Mongo_db/student/student-mat.csv')\n",
    "df.info()"
   ]
  },
  {
   "cell_type": "markdown",
   "metadata": {},
   "source": [
    "Adding a delimiter to seperate the columns"
   ]
  },
  {
   "cell_type": "code",
   "execution_count": 6,
   "metadata": {},
   "outputs": [
    {
     "data": {
      "text/plain": [
       "0       no\n",
       "1       no\n",
       "2      yes\n",
       "3      yes\n",
       "4      yes\n",
       "      ... \n",
       "390    yes\n",
       "391     no\n",
       "392     no\n",
       "393     no\n",
       "394     no\n",
       "Name: paid, Length: 395, dtype: object"
      ]
     },
     "execution_count": 6,
     "metadata": {},
     "output_type": "execute_result"
    }
   ],
   "source": [
    "df = pd.read_csv('/Users/kali/Documents/GitHub/Mongo_db_practice/student/student-mat.csv', delimiter=';')\n",
    "df.paid"
   ]
  },
  {
   "cell_type": "markdown",
   "metadata": {},
   "source": [
    "Turning paid column into an int"
   ]
  },
  {
   "cell_type": "code",
   "execution_count": 50,
   "metadata": {},
   "outputs": [
    {
     "name": "stdout",
     "output_type": "stream",
     "text": [
      "0      0\n",
      "1      0\n",
      "2      1\n",
      "3      1\n",
      "4      1\n",
      "      ..\n",
      "390    1\n",
      "391    0\n",
      "392    0\n",
      "393    0\n",
      "394    0\n",
      "Name: paid, Length: 395, dtype: object\n"
     ]
    }
   ],
   "source": [
    "paid = df.paid.to_numpy()\n",
    "for i, p in enumerate(paid):\n",
    "    if p == 'yes':\n",
    "        paid[i] = 1\n",
    "    else:\n",
    "        paid[i] = 0\n",
    "df.paid = paid\n",
    "\n",
    "print(df['paid'])"
   ]
  },
  {
   "cell_type": "code",
   "execution_count": 7,
   "metadata": {},
   "outputs": [],
   "source": [
    "df.paid =[1 if x == \"yes\" else 0 for x in df.paid]"
   ]
  },
  {
   "cell_type": "code",
   "execution_count": 9,
   "metadata": {},
   "outputs": [
    {
     "data": {
      "text/plain": [
       "0      0\n",
       "1      0\n",
       "2      1\n",
       "3      1\n",
       "4      1\n",
       "      ..\n",
       "390    1\n",
       "391    0\n",
       "392    0\n",
       "393    0\n",
       "394    0\n",
       "Name: paid, Length: 395, dtype: int64"
      ]
     },
     "execution_count": 9,
     "metadata": {},
     "output_type": "execute_result"
    }
   ],
   "source": [
    "df.paid"
   ]
  },
  {
   "cell_type": "code",
   "execution_count": 57,
   "metadata": {},
   "outputs": [],
   "source": [
    "from sklearn.pipeline import make_pipeline"
   ]
  },
  {
   "cell_type": "code",
   "execution_count": 11,
   "metadata": {},
   "outputs": [
    {
     "data": {
      "text/plain": [
       "\"df = pd.read_csv('/Users/kali/Documents/GitHub/Mongo_db/student/student-mat.csv', delimiter=';')\\npaid = df.paid.to_numpy()\\nfor i, p in enumerate(paid):\\n    if p == 'yes':\\n        paid[i] = 1\\n    else:\\n        paid[i] = 0\\ndf.paid = paid\\n\\nprint(df['paid'])\""
      ]
     },
     "execution_count": 11,
     "metadata": {},
     "output_type": "execute_result"
    }
   ],
   "source": [
    "\n",
    "\"\"\"df = pd.read_csv('/Users/kali/Documents/GitHub/Mongo_db/student/student-mat.csv', delimiter=';')\n",
    "paid = df.paid.to_numpy()\n",
    "for i, p in enumerate(paid):\n",
    "    if p == 'yes':\n",
    "        paid[i] = 1\n",
    "    else:\n",
    "        paid[i] = 0\n",
    "df.paid = paid\n",
    "\n",
    "print(df['paid'])\"\"\"\n"
   ]
  }
 ],
 "metadata": {
  "kernelspec": {
   "display_name": "Python 3",
   "language": "python",
   "name": "python3"
  },
  "language_info": {
   "codemirror_mode": {
    "name": "ipython",
    "version": 3
   },
   "file_extension": ".py",
   "mimetype": "text/x-python",
   "name": "python",
   "nbconvert_exporter": "python",
   "pygments_lexer": "ipython3",
   "version": "3.11.5"
  },
  "orig_nbformat": 4
 },
 "nbformat": 4,
 "nbformat_minor": 2
}
